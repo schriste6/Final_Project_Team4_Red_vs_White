{
 "cells": [
  {
   "cell_type": "code",
   "execution_count": null,
   "id": "ad6764c2",
   "metadata": {},
   "outputs": [],
   "source": [
    "# import pandas\n",
    "import pandas as pd\n",
    "\n",
    "# import numpy\n",
    "import numpy as np\n",
    "\n",
    "# import matplotlib\n",
    "import matplotlib.pyplot as plt\n",
    "\n",
    "# import Database \n",
    "from sqlalchemy import create_engine\n",
    "\n",
    "from sqlalchemy.orm import close_all_sessions\n",
    "\n",
    "import config"
   ]
  },
  {
   "cell_type": "code",
   "execution_count": null,
   "id": "ee70a03d",
   "metadata": {},
   "outputs": [],
   "source": [
    "# Creating Database Connection\n",
    "\n",
    "# database_str = f'postgres://{POSTGRES_USERNAME}:{POSTGRES_PASSWORD}@{POSTGRES_ADDRESS}:{POSTGRES_PORT}/{POSTGRES_DBNAME}'\n",
    "\n",
    "# engine = create_engine(database_str)"
   ]
  },
  {
   "cell_type": "code",
   "execution_count": null,
   "id": "3cb82aac",
   "metadata": {},
   "outputs": [],
   "source": []
  }
 ],
 "metadata": {
  "kernelspec": {
   "display_name": "mlenv",
   "language": "python",
   "name": "mlenv"
  },
  "language_info": {
   "codemirror_mode": {
    "name": "ipython",
    "version": 3
   },
   "file_extension": ".py",
   "mimetype": "text/x-python",
   "name": "python",
   "nbconvert_exporter": "python",
   "pygments_lexer": "ipython3",
   "version": "3.9.7"
  }
 },
 "nbformat": 4,
 "nbformat_minor": 5
}
